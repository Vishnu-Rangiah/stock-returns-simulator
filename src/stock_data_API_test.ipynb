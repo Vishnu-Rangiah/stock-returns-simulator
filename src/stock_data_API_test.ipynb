{
 "cells": [
  {
   "cell_type": "code",
   "execution_count": 382,
   "metadata": {
    "scrolled": true
   },
   "outputs": [],
   "source": [
    "import requests \n",
    "import pandas as pd\n",
    "from datetime import datetime\n",
    "import numpy as np\n",
    "\n",
    "SYMBOL = (\"IBM\")\n",
    "url = \"https://www.alphavantage.co/query?function=TIME_SERIES_MONTHLY&symbol=\"+SYMBOL+\"&apikey=L14KLEPQ80F26X4M\"\n",
    "response = requests.get(url)\n",
    "output = response.json()\n",
    "stock_dates_dict = output[\"Monthly Time Series\"]"
   ]
  },
  {
   "cell_type": "code",
   "execution_count": 383,
   "metadata": {},
   "outputs": [],
   "source": [
    "all_dates = [i for i in stock_dates_dict.keys()] "
   ]
  },
  {
   "cell_type": "code",
   "execution_count": 384,
   "metadata": {},
   "outputs": [],
   "source": [
    "all_dates = pd.DataFrame(all_dates)"
   ]
  },
  {
   "cell_type": "code",
   "execution_count": 385,
   "metadata": {},
   "outputs": [],
   "source": [
    "all_dates.columns = [\"Date\"]"
   ]
  },
  {
   "cell_type": "code",
   "execution_count": 386,
   "metadata": {},
   "outputs": [],
   "source": [
    "all_dates.Date = pd.to_datetime(all_dates.Date)"
   ]
  },
  {
   "cell_type": "code",
   "execution_count": 387,
   "metadata": {},
   "outputs": [
    {
     "data": {
      "text/plain": [
       "Timestamp('1999-12-31 00:00:00')"
      ]
     },
     "execution_count": 387,
     "metadata": {},
     "output_type": "execute_result"
    }
   ],
   "source": [
    "min(all_dates.Date)"
   ]
  },
  {
   "cell_type": "code",
   "execution_count": 388,
   "metadata": {},
   "outputs": [
    {
     "data": {
      "text/plain": [
       "Timestamp('2022-03-09 00:00:00')"
      ]
     },
     "execution_count": 388,
     "metadata": {},
     "output_type": "execute_result"
    }
   ],
   "source": [
    "max(all_dates.Date)"
   ]
  },
  {
   "cell_type": "code",
   "execution_count": 389,
   "metadata": {},
   "outputs": [
    {
     "data": {
      "text/html": [
       "<div>\n",
       "<style scoped>\n",
       "    .dataframe tbody tr th:only-of-type {\n",
       "        vertical-align: middle;\n",
       "    }\n",
       "\n",
       "    .dataframe tbody tr th {\n",
       "        vertical-align: top;\n",
       "    }\n",
       "\n",
       "    .dataframe thead th {\n",
       "        text-align: right;\n",
       "    }\n",
       "</style>\n",
       "<table border=\"1\" class=\"dataframe\">\n",
       "  <thead>\n",
       "    <tr style=\"text-align: right;\">\n",
       "      <th></th>\n",
       "      <th>Date</th>\n",
       "    </tr>\n",
       "  </thead>\n",
       "  <tbody>\n",
       "    <tr>\n",
       "      <th>0</th>\n",
       "      <td>2022-03-09</td>\n",
       "    </tr>\n",
       "    <tr>\n",
       "      <th>1</th>\n",
       "      <td>2022-02-28</td>\n",
       "    </tr>\n",
       "    <tr>\n",
       "      <th>2</th>\n",
       "      <td>2022-01-31</td>\n",
       "    </tr>\n",
       "    <tr>\n",
       "      <th>3</th>\n",
       "      <td>2021-12-31</td>\n",
       "    </tr>\n",
       "    <tr>\n",
       "      <th>4</th>\n",
       "      <td>2021-11-30</td>\n",
       "    </tr>\n",
       "    <tr>\n",
       "      <th>...</th>\n",
       "      <td>...</td>\n",
       "    </tr>\n",
       "    <tr>\n",
       "      <th>263</th>\n",
       "      <td>2000-04-28</td>\n",
       "    </tr>\n",
       "    <tr>\n",
       "      <th>264</th>\n",
       "      <td>2000-03-31</td>\n",
       "    </tr>\n",
       "    <tr>\n",
       "      <th>265</th>\n",
       "      <td>2000-02-29</td>\n",
       "    </tr>\n",
       "    <tr>\n",
       "      <th>266</th>\n",
       "      <td>2000-01-31</td>\n",
       "    </tr>\n",
       "    <tr>\n",
       "      <th>267</th>\n",
       "      <td>1999-12-31</td>\n",
       "    </tr>\n",
       "  </tbody>\n",
       "</table>\n",
       "<p>268 rows × 1 columns</p>\n",
       "</div>"
      ],
      "text/plain": [
       "          Date\n",
       "0   2022-03-09\n",
       "1   2022-02-28\n",
       "2   2022-01-31\n",
       "3   2021-12-31\n",
       "4   2021-11-30\n",
       "..         ...\n",
       "263 2000-04-28\n",
       "264 2000-03-31\n",
       "265 2000-02-29\n",
       "266 2000-01-31\n",
       "267 1999-12-31\n",
       "\n",
       "[268 rows x 1 columns]"
      ]
     },
     "execution_count": 389,
     "metadata": {},
     "output_type": "execute_result"
    }
   ],
   "source": [
    "all_dates"
   ]
  },
  {
   "cell_type": "code",
   "execution_count": 390,
   "metadata": {},
   "outputs": [],
   "source": [
    "def split_years(dt):\n",
    "    dt['year'] = dt['Date'].dt.year\n",
    "    return [dt[dt['year'] == y] for y in dt['year'].unique()]"
   ]
  },
  {
   "cell_type": "code",
   "execution_count": 391,
   "metadata": {},
   "outputs": [
    {
     "name": "stdout",
     "output_type": "stream",
     "text": [
      "        Date  year\n",
      "0 2022-03-09  2022\n",
      "1 2022-02-28  2022\n",
      "2 2022-01-31  2022\n",
      "          Date  year\n",
      "267 1999-12-31  1999\n"
     ]
    }
   ],
   "source": [
    "mins = []\n",
    "maxs = []\n",
    "for i in split_years(all_dates):\n",
    "    mins.append(min(i.Date))\n",
    "    maxs.append(max(i.Date))\n",
    "    if len(i) < 12:\n",
    "        print(i)\n",
    "        continue"
   ]
  },
  {
   "cell_type": "code",
   "execution_count": 392,
   "metadata": {},
   "outputs": [
    {
     "data": {
      "text/plain": [
       "[Timestamp('2022-01-31 00:00:00'),\n",
       " Timestamp('2021-01-29 00:00:00'),\n",
       " Timestamp('2020-01-31 00:00:00'),\n",
       " Timestamp('2019-01-31 00:00:00'),\n",
       " Timestamp('2018-01-31 00:00:00'),\n",
       " Timestamp('2017-01-31 00:00:00'),\n",
       " Timestamp('2016-01-29 00:00:00'),\n",
       " Timestamp('2015-01-30 00:00:00'),\n",
       " Timestamp('2014-01-31 00:00:00'),\n",
       " Timestamp('2013-01-31 00:00:00'),\n",
       " Timestamp('2012-01-31 00:00:00'),\n",
       " Timestamp('2011-01-31 00:00:00'),\n",
       " Timestamp('2010-01-29 00:00:00'),\n",
       " Timestamp('2009-01-30 00:00:00'),\n",
       " Timestamp('2008-01-31 00:00:00'),\n",
       " Timestamp('2007-01-31 00:00:00'),\n",
       " Timestamp('2006-01-31 00:00:00'),\n",
       " Timestamp('2005-01-31 00:00:00'),\n",
       " Timestamp('2004-01-30 00:00:00'),\n",
       " Timestamp('2003-01-31 00:00:00'),\n",
       " Timestamp('2002-01-31 00:00:00'),\n",
       " Timestamp('2001-01-31 00:00:00'),\n",
       " Timestamp('2000-01-31 00:00:00'),\n",
       " Timestamp('1999-12-31 00:00:00')]"
      ]
     },
     "execution_count": 392,
     "metadata": {},
     "output_type": "execute_result"
    }
   ],
   "source": [
    "mins"
   ]
  },
  {
   "cell_type": "code",
   "execution_count": 393,
   "metadata": {},
   "outputs": [
    {
     "data": {
      "text/plain": [
       "[Timestamp('2022-03-09 00:00:00'),\n",
       " Timestamp('2021-12-31 00:00:00'),\n",
       " Timestamp('2020-12-31 00:00:00'),\n",
       " Timestamp('2019-12-31 00:00:00'),\n",
       " Timestamp('2018-12-31 00:00:00'),\n",
       " Timestamp('2017-12-29 00:00:00'),\n",
       " Timestamp('2016-12-30 00:00:00'),\n",
       " Timestamp('2015-12-31 00:00:00'),\n",
       " Timestamp('2014-12-31 00:00:00'),\n",
       " Timestamp('2013-12-31 00:00:00'),\n",
       " Timestamp('2012-12-31 00:00:00'),\n",
       " Timestamp('2011-12-30 00:00:00'),\n",
       " Timestamp('2010-12-31 00:00:00'),\n",
       " Timestamp('2009-12-31 00:00:00'),\n",
       " Timestamp('2008-12-31 00:00:00'),\n",
       " Timestamp('2007-12-31 00:00:00'),\n",
       " Timestamp('2006-12-29 00:00:00'),\n",
       " Timestamp('2005-12-30 00:00:00'),\n",
       " Timestamp('2004-12-31 00:00:00'),\n",
       " Timestamp('2003-12-31 00:00:00'),\n",
       " Timestamp('2002-12-31 00:00:00'),\n",
       " Timestamp('2001-12-31 00:00:00'),\n",
       " Timestamp('2000-12-29 00:00:00'),\n",
       " Timestamp('1999-12-31 00:00:00')]"
      ]
     },
     "execution_count": 393,
     "metadata": {},
     "output_type": "execute_result"
    }
   ],
   "source": [
    "maxs"
   ]
  },
  {
   "cell_type": "markdown",
   "metadata": {},
   "source": [
    "gets keys from dict, separtes keys by year gets min and max per year and compares the opening price for stock for returns "
   ]
  },
  {
   "cell_type": "code",
   "execution_count": 394,
   "metadata": {},
   "outputs": [],
   "source": [
    "maxs = list(map(lambda x: x.strftime(\"%Y-%m-%d\"), maxs))\n",
    "mins = list(map(lambda x: x.strftime(\"%Y-%m-%d\"), mins))"
   ]
  },
  {
   "cell_type": "code",
   "execution_count": 395,
   "metadata": {
    "scrolled": true
   },
   "outputs": [],
   "source": [
    "# for key in stock_dates_dict:\n",
    "#     print(key, stock_dates_dict[key])"
   ]
  },
  {
   "cell_type": "code",
   "execution_count": 396,
   "metadata": {},
   "outputs": [],
   "source": [
    "# https://www.investopedia.com/terms/y/yearly-rate-of-return-method.asp\n",
    "def yearly_return(first, last):\n",
    "    first =  float(first)\n",
    "    last = float(last)\n",
    "    return (last - first ) / first*100"
   ]
  },
  {
   "cell_type": "code",
   "execution_count": 397,
   "metadata": {},
   "outputs": [
    {
     "data": {
      "text/plain": [
       "['2022-01-31',\n",
       " '2021-01-29',\n",
       " '2020-01-31',\n",
       " '2019-01-31',\n",
       " '2018-01-31',\n",
       " '2017-01-31',\n",
       " '2016-01-29',\n",
       " '2015-01-30',\n",
       " '2014-01-31',\n",
       " '2013-01-31',\n",
       " '2012-01-31',\n",
       " '2011-01-31',\n",
       " '2010-01-29',\n",
       " '2009-01-30',\n",
       " '2008-01-31',\n",
       " '2007-01-31',\n",
       " '2006-01-31',\n",
       " '2005-01-31',\n",
       " '2004-01-30',\n",
       " '2003-01-31',\n",
       " '2002-01-31',\n",
       " '2001-01-31',\n",
       " '2000-01-31',\n",
       " '1999-12-31']"
      ]
     },
     "execution_count": 397,
     "metadata": {},
     "output_type": "execute_result"
    }
   ],
   "source": [
    "mins"
   ]
  },
  {
   "cell_type": "code",
   "execution_count": 398,
   "metadata": {},
   "outputs": [
    {
     "data": {
      "text/plain": [
       "['2022-03-09',\n",
       " '2021-12-31',\n",
       " '2020-12-31',\n",
       " '2019-12-31',\n",
       " '2018-12-31',\n",
       " '2017-12-29',\n",
       " '2016-12-30',\n",
       " '2015-12-31',\n",
       " '2014-12-31',\n",
       " '2013-12-31',\n",
       " '2012-12-31',\n",
       " '2011-12-30',\n",
       " '2010-12-31',\n",
       " '2009-12-31',\n",
       " '2008-12-31',\n",
       " '2007-12-31',\n",
       " '2006-12-29',\n",
       " '2005-12-30',\n",
       " '2004-12-31',\n",
       " '2003-12-31',\n",
       " '2002-12-31',\n",
       " '2001-12-31',\n",
       " '2000-12-29',\n",
       " '1999-12-31']"
      ]
     },
     "execution_count": 398,
     "metadata": {},
     "output_type": "execute_result"
    }
   ],
   "source": [
    "maxs"
   ]
  },
  {
   "cell_type": "code",
   "execution_count": 399,
   "metadata": {},
   "outputs": [
    {
     "name": "stdout",
     "output_type": "stream",
     "text": [
      "maxs  2022-03-09 126.2200\n",
      "maxs  2021-12-31 133.6600\n",
      "maxs  2020-12-31 125.8800\n",
      "maxs  2019-12-31 134.0400\n",
      "maxs  2018-12-31 113.6700\n",
      "maxs  2017-12-29 153.4200\n",
      "maxs  2016-12-30 165.9900\n",
      "maxs  2015-12-31 137.6200\n",
      "maxs  2014-12-31 160.4400\n",
      "maxs  2013-12-31 187.5700\n",
      "maxs  2012-12-31 191.5500\n",
      "maxs  2011-12-30 183.8800\n",
      "maxs  2010-12-31 146.7600\n",
      "maxs  2009-12-31 130.9000\n",
      "maxs  2008-12-31 84.1600\n",
      "maxs  2007-12-31 108.1000\n",
      "maxs  2006-12-29 97.1500\n",
      "maxs  2005-12-30 82.2000\n",
      "maxs  2004-12-31 98.5800\n",
      "maxs  2003-12-31 92.6800\n",
      "maxs  2002-12-31 77.5000\n",
      "maxs  2001-12-31 120.9600\n",
      "maxs  2000-12-29 85.0000\n",
      "maxs  1999-12-31 107.8700\n"
     ]
    }
   ],
   "source": [
    "for i in maxs:\n",
    "    print('maxs ', i, stock_dates_dict[i][\"4. close\"])"
   ]
  },
  {
   "cell_type": "code",
   "execution_count": 400,
   "metadata": {},
   "outputs": [
    {
     "name": "stdout",
     "output_type": "stream",
     "text": [
      "mins  2022-01-31 134.0700\n",
      "mins  2021-01-29 125.8500\n",
      "mins  2020-01-31 135.0000\n",
      "mins  2019-01-31 112.0100\n",
      "mins  2018-01-31 154.5000\n",
      "mins  2017-01-31 167.0000\n",
      "mins  2016-01-29 135.6000\n",
      "mins  2015-01-30 161.3100\n",
      "mins  2014-01-31 187.2100\n",
      "mins  2013-01-31 194.0900\n",
      "mins  2012-01-31 186.7300\n",
      "mins  2011-01-31 147.2100\n",
      "mins  2010-01-29 131.1800\n",
      "mins  2009-01-30 83.8900\n",
      "mins  2008-01-31 108.9900\n",
      "mins  2007-01-31 97.1700\n",
      "mins  2006-01-31 82.4500\n",
      "mins  2005-01-31 98.9700\n",
      "mins  2004-01-30 92.8600\n",
      "mins  2003-01-31 78.8000\n",
      "mins  2002-01-31 120.6000\n",
      "mins  2001-01-31 84.5000\n",
      "mins  2000-01-31 112.4400\n",
      "mins  1999-12-31 102.5600\n"
     ]
    }
   ],
   "source": [
    "for i in mins:\n",
    "    print('mins ', i , stock_dates_dict[i][\"1. open\"])"
   ]
  },
  {
   "cell_type": "code",
   "execution_count": 401,
   "metadata": {},
   "outputs": [
    {
     "data": {
      "text/plain": [
       "-5.8551502946222085"
      ]
     },
     "execution_count": 401,
     "metadata": {},
     "output_type": "execute_result"
    }
   ],
   "source": [
    "rates_of_return = yearly_return(stock_dates_dict[mins[0]][\"1. open\"], stock_dates_dict[maxs[0]][\"4. close\"])\n",
    "rates_of_return"
   ]
  },
  {
   "cell_type": "code",
   "execution_count": 402,
   "metadata": {},
   "outputs": [
    {
     "data": {
      "text/plain": [
       "[-5.8551502946222085,\n",
       " 6.205800556217722,\n",
       " -6.755555555555559,\n",
       " 19.66788679582179,\n",
       " -26.427184466019416,\n",
       " -8.131736526946115,\n",
       " 22.411504424778773]"
      ]
     },
     "execution_count": 402,
     "metadata": {},
     "output_type": "execute_result"
    }
   ],
   "source": [
    "yroi = []\n",
    "for i in range(len(maxs)):\n",
    "    if len(maxs)!=len(mins):\n",
    "        print(\"Different\")\n",
    "    yroi.append(yearly_return(stock_dates_dict[mins[i]][\"1. open\"], stock_dates_dict[maxs[i]][\"4. close\"]))\n",
    "yroi = yroi[:7]\n",
    "yroi"
   ]
  },
  {
   "cell_type": "code",
   "execution_count": 403,
   "metadata": {},
   "outputs": [
    {
     "name": "stdout",
     "output_type": "stream",
     "text": [
      "{\"median\": -5.8551502946222085, \"std\": 15.909911610293406}\n"
     ]
    }
   ],
   "source": [
    "med_value = np.median(yroi)\n",
    "std_value = np.std(yroi)\n",
    "stock_info = {\n",
    "    \"median\": med_value,\n",
    "    \"std\": std_value\n",
    "}\n",
    "print(json.dumps(stock_info))"
   ]
  }
 ],
 "metadata": {
  "kernelspec": {
   "display_name": "Python 3",
   "language": "python",
   "name": "python3"
  },
  "language_info": {
   "codemirror_mode": {
    "name": "ipython",
    "version": 3
   },
   "file_extension": ".py",
   "mimetype": "text/x-python",
   "name": "python",
   "nbconvert_exporter": "python",
   "pygments_lexer": "ipython3",
   "version": "3.8.5"
  }
 },
 "nbformat": 4,
 "nbformat_minor": 4
}
